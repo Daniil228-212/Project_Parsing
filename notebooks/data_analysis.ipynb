```python
import pandas as pd
import matplotlib.pyplot as plt
df = pd.read_csv('../data/winline_data_clean.csv')
print("Первые 5 строк:")
print(df.head())

print("\nСтатистика:")
print(df.describe())
